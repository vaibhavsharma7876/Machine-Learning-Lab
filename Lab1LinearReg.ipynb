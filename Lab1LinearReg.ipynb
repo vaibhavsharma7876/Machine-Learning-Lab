{
 "cells": [
  {
   "cell_type": "code",
   "execution_count": 12,
   "id": "087d9f3c",
   "metadata": {},
   "outputs": [],
   "source": [
    "import numpy as np \n"
   ]
  },
  {
   "cell_type": "code",
   "execution_count": 13,
   "id": "34c53b18",
   "metadata": {},
   "outputs": [],
   "source": [
    "x=[0,1,2,3,3,5,5,5,6,7,7,10]\n",
    "y=[96,85,82,74,95,68,76,84,58,65,75,50]"
   ]
  },
  {
   "cell_type": "code",
   "execution_count": 14,
   "id": "5eb89043",
   "metadata": {},
   "outputs": [],
   "source": [
    "n=len(x)"
   ]
  },
  {
   "cell_type": "code",
   "execution_count": 15,
   "id": "7e1d9f79",
   "metadata": {},
   "outputs": [
    {
     "data": {
      "text/plain": [
       "12"
      ]
     },
     "execution_count": 15,
     "metadata": {},
     "output_type": "execute_result"
    }
   ],
   "source": [
    "n"
   ]
  },
  {
   "cell_type": "code",
   "execution_count": 16,
   "id": "a11455c1",
   "metadata": {},
   "outputs": [],
   "source": [
    "sum_x=0\n",
    "sum_y=0\n",
    "sum_xy=0\n",
    "sum_x2=0"
   ]
  },
  {
   "cell_type": "code",
   "execution_count": 17,
   "id": "4dbdc1ff",
   "metadata": {},
   "outputs": [],
   "source": [
    "for i in range(n):\n",
    "    sum_x += x[i]\n",
    "    sum_y += y[i]\n",
    "    sum_xy += x[i] * y[i]\n",
    "    sum_x2 +=x[i] ** 2"
   ]
  },
  {
   "cell_type": "code",
   "execution_count": 18,
   "id": "0847696e",
   "metadata": {},
   "outputs": [],
   "source": [
    "m = (n * sum_xy - sum_x * sum_y) / (n * sum_x2 - sum_x ** 2)\n",
    "c = (sum_y - m * sum_x) / n"
   ]
  },
  {
   "cell_type": "code",
   "execution_count": 19,
   "id": "41b3b37a",
   "metadata": {},
   "outputs": [
    {
     "data": {
      "text/plain": [
       "-4.067415730337078"
      ]
     },
     "execution_count": 19,
     "metadata": {},
     "output_type": "execute_result"
    }
   ],
   "source": [
    "m"
   ]
  },
  {
   "cell_type": "code",
   "execution_count": 20,
   "id": "9af0f933",
   "metadata": {},
   "outputs": [
    {
     "data": {
      "text/plain": [
       "93.97003745318352"
      ]
     },
     "execution_count": 20,
     "metadata": {},
     "output_type": "execute_result"
    }
   ],
   "source": [
    "c"
   ]
  },
  {
   "cell_type": "code",
   "execution_count": 21,
   "id": "b248a3c2",
   "metadata": {},
   "outputs": [
    {
     "name": "stdout",
     "output_type": "stream",
     "text": [
      "slope is  -4.067415730337078\n",
      "intercept is  93.97003745318352\n"
     ]
    }
   ],
   "source": [
    "print(\"slope is \",m)\n",
    "print(\"intercept is \",c)"
   ]
  },
  {
   "cell_type": "code",
   "execution_count": 23,
   "id": "a40aceaa",
   "metadata": {},
   "outputs": [
    {
     "name": "stdout",
     "output_type": "stream",
     "text": [
      " marks obtained for 9.0 : 57.36329588014982 \n"
     ]
    }
   ],
   "source": [
    "hours=float(input(\"Enter the number of hours tv watched\"))\n",
    "y_pred=m*hours+c\n",
    "print(f\" marks obtained for {hours} : {y_pred} \")"
   ]
  },
  {
   "cell_type": "code",
   "execution_count": null,
   "id": "c5b6cd60",
   "metadata": {},
   "outputs": [],
   "source": []
  }
 ],
 "metadata": {
  "kernelspec": {
   "display_name": "Python 3",
   "language": "python",
   "name": "python3"
  },
  "language_info": {
   "codemirror_mode": {
    "name": "ipython",
    "version": 3
   },
   "file_extension": ".py",
   "mimetype": "text/x-python",
   "name": "python",
   "nbconvert_exporter": "python",
   "pygments_lexer": "ipython3",
   "version": "3.12.3"
  }
 },
 "nbformat": 4,
 "nbformat_minor": 5
}
